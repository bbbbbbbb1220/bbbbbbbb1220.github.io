{
  "nbformat": 4,
  "nbformat_minor": 0,
  "metadata": {
    "colab": {
      "provenance": [],
      "collapsed_sections": [
        "kMf-jep6o8HZ",
        "katlDZR0Bk9g",
        "7EWY7Vp0pMcG",
        "3WyGmN44LAEp",
        "8ymqmJHCqs6V",
        "MlK9UC62pvdi",
        "9tnrkBm9p0qu"
      ],
      "include_colab_link": true
    },
    "kernelspec": {
      "name": "python3",
      "display_name": "Python 3"
    }
  },
  "cells": [
    {
      "cell_type": "markdown",
      "metadata": {
        "id": "view-in-github",
        "colab_type": "text"
      },
      "source": [
        "<a href=\"https://colab.research.google.com/github/bbbbbbbb1220/bbbbbbbb1220.github.io/blob/main/%E7%AC%AC%E4%B8%80%E5%A0%82Algor.ipynb\" target=\"_parent\"><img src=\"https://colab.research.google.com/assets/colab-badge.svg\" alt=\"Open In Colab\"/></a>"
      ]
    },
    {
      "cell_type": "markdown",
      "source": [
        "# 變數、資料型別與運算"
      ],
      "metadata": {
        "id": "Byn0-FgHJOnD"
      }
    },
    {
      "cell_type": "code",
      "metadata": {
        "id": "mAiS4V5GBDqI"
      },
      "source": [
        "age = 18 #int..不宣告"
      ],
      "execution_count": null,
      "outputs": []
    },
    {
      "cell_type": "code",
      "metadata": {
        "id": "aECEtLWKCqRO",
        "colab": {
          "base_uri": "https://localhost:8080/"
        },
        "outputId": "8f7621b7-9b34-4c1f-8869-28a4b556c9e6"
      },
      "source": [
        "id(age)  #id內件函式，透過id知道age位置"
      ],
      "execution_count": null,
      "outputs": [
        {
          "output_type": "execute_result",
          "data": {
            "text/plain": [
              "9793632"
            ]
          },
          "metadata": {},
          "execution_count": 5
        }
      ]
    },
    {
      "cell_type": "code",
      "metadata": {
        "id": "qubsaWHaCr9t"
      },
      "source": [
        "value = age"
      ],
      "execution_count": null,
      "outputs": []
    },
    {
      "cell_type": "code",
      "metadata": {
        "id": "vyPpwh2cCwHk",
        "colab": {
          "base_uri": "https://localhost:8080/"
        },
        "outputId": "025dde12-bda3-4c29-bf2d-1d32013618b3"
      },
      "source": [
        "id(value) "
      ],
      "execution_count": null,
      "outputs": [
        {
          "output_type": "execute_result",
          "data": {
            "text/plain": [
              "9793632"
            ]
          },
          "metadata": {},
          "execution_count": 10
        }
      ]
    },
    {
      "cell_type": "code",
      "source": [],
      "metadata": {
        "id": "Zqf929AY_qJO"
      },
      "execution_count": null,
      "outputs": []
    },
    {
      "cell_type": "code",
      "source": [
        "age = age + 1\n",
        "age"
      ],
      "metadata": {
        "id": "7hm2PzhKRPZn",
        "colab": {
          "base_uri": "https://localhost:8080/"
        },
        "outputId": "fc7540d8-c9b2-4381-96ca-e12839f68ee6"
      },
      "execution_count": null,
      "outputs": [
        {
          "output_type": "execute_result",
          "data": {
            "text/plain": [
              "19"
            ]
          },
          "metadata": {},
          "execution_count": 11
        }
      ]
    },
    {
      "cell_type": "code",
      "source": [
        "id(age) #age+1後位置被重新指派(貼附)"
      ],
      "metadata": {
        "id": "CFdyAPgGRVoZ",
        "colab": {
          "base_uri": "https://localhost:8080/"
        },
        "outputId": "a4c67b43-791c-433f-9a26-1121812e13b7"
      },
      "execution_count": null,
      "outputs": [
        {
          "output_type": "execute_result",
          "data": {
            "text/plain": [
              "9793664"
            ]
          },
          "metadata": {},
          "execution_count": 12
        }
      ]
    },
    {
      "cell_type": "code",
      "source": [
        "value"
      ],
      "metadata": {
        "id": "3HWHVwCZRccn",
        "colab": {
          "base_uri": "https://localhost:8080/"
        },
        "outputId": "1d8801f8-e5ad-4491-8928-6f381be67bd4"
      },
      "execution_count": null,
      "outputs": [
        {
          "output_type": "execute_result",
          "data": {
            "text/plain": [
              "18"
            ]
          },
          "metadata": {},
          "execution_count": 13
        }
      ]
    },
    {
      "cell_type": "code",
      "source": [
        "age-=1"
      ],
      "metadata": {
        "id": "L8XbaWJD9NJK"
      },
      "execution_count": null,
      "outputs": []
    },
    {
      "cell_type": "code",
      "source": [
        "value(age)  #age撿回來位置相同"
      ],
      "metadata": {
        "colab": {
          "base_uri": "https://localhost:8080/",
          "height": 167
        },
        "id": "p_sdrKma9TJ8",
        "outputId": "4f3371d3-7145-4eba-9277-88fa0aca26f5"
      },
      "execution_count": null,
      "outputs": [
        {
          "output_type": "error",
          "ename": "TypeError",
          "evalue": "ignored",
          "traceback": [
            "\u001b[0;31m---------------------------------------------------------------------------\u001b[0m",
            "\u001b[0;31mTypeError\u001b[0m                                 Traceback (most recent call last)",
            "\u001b[0;32m<ipython-input-15-a0e746b7a3f8>\u001b[0m in \u001b[0;36m<module>\u001b[0;34m\u001b[0m\n\u001b[0;32m----> 1\u001b[0;31m \u001b[0mvalue\u001b[0m\u001b[0;34m(\u001b[0m\u001b[0mage\u001b[0m\u001b[0;34m)\u001b[0m  \u001b[0;31m#age撿回來位置相同\u001b[0m\u001b[0;34m\u001b[0m\u001b[0;34m\u001b[0m\u001b[0m\n\u001b[0m",
            "\u001b[0;31mTypeError\u001b[0m: 'int' object is not callable"
          ]
        }
      ]
    },
    {
      "cell_type": "code",
      "metadata": {
        "id": "wlqbrZPTCx5t"
      },
      "source": [
        "a = 257"
      ],
      "execution_count": null,
      "outputs": []
    },
    {
      "cell_type": "code",
      "metadata": {
        "id": "61qplQVKC9RE",
        "colab": {
          "base_uri": "https://localhost:8080/"
        },
        "outputId": "bb73d06c-934f-49f3-abe2-c8c9bac43f8a"
      },
      "source": [
        " id(a)  #跑到heap不是age的位置"
      ],
      "execution_count": null,
      "outputs": [
        {
          "output_type": "execute_result",
          "data": {
            "text/plain": [
              "140293514603888"
            ]
          },
          "metadata": {},
          "execution_count": 17
        }
      ]
    },
    {
      "cell_type": "code",
      "metadata": {
        "id": "gLzkmsGxC_X8"
      },
      "source": [
        "b = 257 #只有!預宣告(拿前面的值指派)!才會存在依樣位置"
      ],
      "execution_count": null,
      "outputs": []
    },
    {
      "cell_type": "code",
      "metadata": {
        "id": "4oe9MVjYDBy8",
        "colab": {
          "base_uri": "https://localhost:8080/"
        },
        "outputId": "077ad985-8014-43cb-f3bc-07ea710e4097"
      },
      "source": [
        "id(b)"
      ],
      "execution_count": null,
      "outputs": [
        {
          "output_type": "execute_result",
          "data": {
            "text/plain": [
              "140293514603920"
            ]
          },
          "metadata": {},
          "execution_count": 19
        }
      ]
    },
    {
      "cell_type": "code",
      "source": [
        "a==b"
      ],
      "metadata": {
        "colab": {
          "base_uri": "https://localhost:8080/"
        },
        "id": "Q-t4agcG96Qb",
        "outputId": "10f9729e-e4b2-4804-9964-2fac0d8e008b"
      },
      "execution_count": null,
      "outputs": [
        {
          "output_type": "execute_result",
          "data": {
            "text/plain": [
              "True"
            ]
          },
          "metadata": {},
          "execution_count": 20
        }
      ]
    },
    {
      "cell_type": "code",
      "source": [
        "a is b #python裡一樣要連位置都一樣"
      ],
      "metadata": {
        "colab": {
          "base_uri": "https://localhost:8080/"
        },
        "id": "bR67ES9K99mX",
        "outputId": "6873d918-f362-4093-c759-3c100b71533a"
      },
      "execution_count": null,
      "outputs": [
        {
          "output_type": "execute_result",
          "data": {
            "text/plain": [
              "False"
            ]
          },
          "metadata": {},
          "execution_count": 21
        }
      ]
    },
    {
      "cell_type": "code",
      "source": [
        "c = a\n",
        "id(c)\n"
      ],
      "metadata": {
        "id": "tYuzXDMISE1P",
        "colab": {
          "base_uri": "https://localhost:8080/"
        },
        "outputId": "39b19696-b435-4e58-be19-dbec67551c09"
      },
      "execution_count": null,
      "outputs": [
        {
          "output_type": "execute_result",
          "data": {
            "text/plain": [
              "140293514603888"
            ]
          },
          "metadata": {},
          "execution_count": 22
        }
      ]
    },
    {
      "cell_type": "code",
      "source": [
        "c is a "
      ],
      "metadata": {
        "colab": {
          "base_uri": "https://localhost:8080/"
        },
        "id": "1ZtqYWlb-Hif",
        "outputId": "0adc8083-39f8-4678-e49c-d805834926e6"
      },
      "execution_count": null,
      "outputs": [
        {
          "output_type": "execute_result",
          "data": {
            "text/plain": [
              "True"
            ]
          },
          "metadata": {},
          "execution_count": 23
        }
      ]
    },
    {
      "cell_type": "code",
      "metadata": {
        "id": "PESBACEWDDR9"
      },
      "source": [
        "a = a + 1"
      ],
      "execution_count": null,
      "outputs": []
    },
    {
      "cell_type": "code",
      "metadata": {
        "id": "SWOq8v4PDdKs",
        "colab": {
          "base_uri": "https://localhost:8080/"
        },
        "outputId": "8de0783f-f888-4e60-bbf1-4240e33c7590"
      },
      "source": [
        "a"
      ],
      "execution_count": null,
      "outputs": [
        {
          "output_type": "execute_result",
          "data": {
            "text/plain": [
              "258"
            ]
          },
          "metadata": {},
          "execution_count": 25
        }
      ]
    },
    {
      "cell_type": "code",
      "metadata": {
        "id": "o8E1YRw-DeNF",
        "colab": {
          "base_uri": "https://localhost:8080/"
        },
        "outputId": "f7d61b76-1e1c-4fce-c47b-412d4b07960a"
      },
      "source": [
        "id(a)"
      ],
      "execution_count": null,
      "outputs": [
        {
          "output_type": "execute_result",
          "data": {
            "text/plain": [
              "140293497348272"
            ]
          },
          "metadata": {},
          "execution_count": 26
        }
      ]
    },
    {
      "cell_type": "code",
      "source": [
        "c"
      ],
      "metadata": {
        "id": "ur-42eEySffX",
        "colab": {
          "base_uri": "https://localhost:8080/"
        },
        "outputId": "0da49ee5-9c15-44ef-d448-39a887a88236"
      },
      "execution_count": null,
      "outputs": [
        {
          "output_type": "execute_result",
          "data": {
            "text/plain": [
              "257"
            ]
          },
          "metadata": {},
          "execution_count": 27
        }
      ]
    },
    {
      "cell_type": "code",
      "metadata": {
        "id": "o7aakAD5DiQu"
      },
      "source": [
        "a = 18"
      ],
      "execution_count": null,
      "outputs": []
    },
    {
      "cell_type": "code",
      "metadata": {
        "id": "T1ziPN6tDtBN",
        "colab": {
          "base_uri": "https://localhost:8080/"
        },
        "outputId": "a252bd6c-5686-4b85-ab9c-66fe92296a59"
      },
      "source": [
        "id(18) #和a存在同位置"
      ],
      "execution_count": null,
      "outputs": [
        {
          "output_type": "execute_result",
          "data": {
            "text/plain": [
              "9793632"
            ]
          },
          "metadata": {},
          "execution_count": 29
        }
      ]
    },
    {
      "cell_type": "code",
      "metadata": {
        "id": "kF1drrgZDvI_",
        "colab": {
          "base_uri": "https://localhost:8080/"
        },
        "outputId": "1668178b-2487-4fd1-b0cf-11da5018aab7"
      },
      "source": [
        "print(a)"
      ],
      "execution_count": null,
      "outputs": [
        {
          "output_type": "stream",
          "name": "stdout",
          "text": [
            "18\n"
          ]
        }
      ]
    },
    {
      "cell_type": "code",
      "source": [
        "print? #看print後有甚麼參數"
      ],
      "metadata": {
        "colab": {
          "base_uri": "https://localhost:8080/",
          "height": 132
        },
        "id": "mR4BjVIk-s-L",
        "outputId": "27bdead5-fa56-4cc9-8ba7-31de72eefbef"
      },
      "execution_count": null,
      "outputs": [
        {
          "output_type": "error",
          "ename": "SyntaxError",
          "evalue": "ignored",
          "traceback": [
            "\u001b[0;36m  File \u001b[0;32m\"<ipython-input-31-98bd593bc607>\"\u001b[0;36m, line \u001b[0;32m1\u001b[0m\n\u001b[0;31m    print? #看print後有甚麼參數\u001b[0m\n\u001b[0m         ^\u001b[0m\n\u001b[0;31mSyntaxError\u001b[0m\u001b[0;31m:\u001b[0m invalid syntax\n"
          ]
        }
      ]
    },
    {
      "cell_type": "markdown",
      "source": [
        "## 如果指派 print 為其他物件會發生什麼事？"
      ],
      "metadata": {
        "id": "kMf-jep6o8HZ"
      }
    },
    {
      "cell_type": "code",
      "metadata": {
        "id": "kRC0HEQnEuxt"
      },
      "source": [
        "# 最好先弄個別名保留原來 print 函式\n",
        "p = print"
      ],
      "execution_count": null,
      "outputs": []
    },
    {
      "cell_type": "code",
      "source": [
        "type(p)\n",
        "#函式也是物件，可以指派"
      ],
      "metadata": {
        "colab": {
          "base_uri": "https://localhost:8080/"
        },
        "id": "4mmVSkGI_Aq2",
        "outputId": "4bce4182-ab41-45fa-8fc3-e69ba94441eb"
      },
      "execution_count": null,
      "outputs": [
        {
          "output_type": "execute_result",
          "data": {
            "text/plain": [
              "builtin_function_or_method"
            ]
          },
          "metadata": {},
          "execution_count": 8
        }
      ]
    },
    {
      "cell_type": "code",
      "source": [
        "print = 5"
      ],
      "metadata": {
        "id": "IxUHGYYLpGqy"
      },
      "execution_count": null,
      "outputs": []
    },
    {
      "cell_type": "code",
      "metadata": {
        "id": "27nEyxunExaE",
        "colab": {
          "base_uri": "https://localhost:8080/",
          "height": 167
        },
        "outputId": "6d67b7ec-2b00-460f-e8a4-25e3204ca96b"
      },
      "source": [
        "print(a)"
      ],
      "execution_count": null,
      "outputs": [
        {
          "output_type": "error",
          "ename": "TypeError",
          "evalue": "ignored",
          "traceback": [
            "\u001b[0;31m---------------------------------------------------------------------------\u001b[0m",
            "\u001b[0;31mTypeError\u001b[0m                                 Traceback (most recent call last)",
            "\u001b[0;32m<ipython-input-34-bca0e2660b9f>\u001b[0m in \u001b[0;36m<module>\u001b[0;34m\u001b[0m\n\u001b[0;32m----> 1\u001b[0;31m \u001b[0mprint\u001b[0m\u001b[0;34m(\u001b[0m\u001b[0ma\u001b[0m\u001b[0;34m)\u001b[0m\u001b[0;34m\u001b[0m\u001b[0;34m\u001b[0m\u001b[0m\n\u001b[0m",
            "\u001b[0;31mTypeError\u001b[0m: 'int' object is not callable"
          ]
        }
      ]
    },
    {
      "cell_type": "code",
      "source": [
        "p(a)\n",
        "#把print放到p，print變成變數儲存"
      ],
      "metadata": {
        "id": "LiMaYu9FpPlW",
        "colab": {
          "base_uri": "https://localhost:8080/"
        },
        "outputId": "86049fdb-b583-4ff9-def5-33288743ca34"
      },
      "execution_count": null,
      "outputs": [
        {
          "output_type": "stream",
          "name": "stdout",
          "text": [
            "18\n"
          ]
        }
      ]
    },
    {
      "cell_type": "code",
      "metadata": {
        "id": "dpASPiLBEzH1"
      },
      "source": [
        "c = a + print"
      ],
      "execution_count": null,
      "outputs": []
    },
    {
      "cell_type": "code",
      "metadata": {
        "id": "uiALTvzRE3E0",
        "colab": {
          "base_uri": "https://localhost:8080/"
        },
        "outputId": "4a0ee859-47f4-4110-d6a8-fe94c40d225d"
      },
      "source": [
        "c"
      ],
      "execution_count": null,
      "outputs": [
        {
          "output_type": "execute_result",
          "data": {
            "text/plain": [
              "23"
            ]
          },
          "metadata": {},
          "execution_count": 37
        }
      ]
    },
    {
      "cell_type": "code",
      "source": [
        "# 將 print 還原\n",
        "print = p"
      ],
      "metadata": {
        "id": "z969kp0fpaTV"
      },
      "execution_count": null,
      "outputs": []
    },
    {
      "cell_type": "code",
      "source": [
        "print(a,c)"
      ],
      "metadata": {
        "colab": {
          "base_uri": "https://localhost:8080/"
        },
        "id": "lnIm_6zs_ixK",
        "outputId": "88be9926-459d-44f4-dc8d-7e68d584e9c1"
      },
      "execution_count": null,
      "outputs": [
        {
          "output_type": "stream",
          "name": "stdout",
          "text": [
            "18 23\n"
          ]
        }
      ]
    },
    {
      "cell_type": "code",
      "metadata": {
        "id": "WmZyjGOAGotc",
        "colab": {
          "base_uri": "https://localhost:8080/"
        },
        "outputId": "8f5e9a19-afa6-4c28-f455-46af6c5d4fbe"
      },
      "source": [
        "4/2, type(4/2)"
      ],
      "execution_count": null,
      "outputs": [
        {
          "output_type": "execute_result",
          "data": {
            "text/plain": [
              "(2.0, float)"
            ]
          },
          "metadata": {},
          "execution_count": 44
        }
      ]
    },
    {
      "cell_type": "code",
      "metadata": {
        "id": "HaoxFnItKgjl",
        "colab": {
          "base_uri": "https://localhost:8080/"
        },
        "outputId": "1b190790-32e4-49ce-8ee4-fcf2c0361aa8"
      },
      "source": [
        "4//2"
      ],
      "execution_count": null,
      "outputs": [
        {
          "output_type": "execute_result",
          "data": {
            "text/plain": [
              "2"
            ]
          },
          "metadata": {},
          "execution_count": 41
        }
      ]
    },
    {
      "cell_type": "code",
      "metadata": {
        "id": "ztmdzXYrKrzW",
        "colab": {
          "base_uri": "https://localhost:8080/"
        },
        "outputId": "c0ddf872-69a3-4a75-af38-d2bf5667848b"
      },
      "source": [
        "int(4/2)"
      ],
      "execution_count": null,
      "outputs": [
        {
          "output_type": "execute_result",
          "data": {
            "text/plain": [
              "2"
            ]
          },
          "metadata": {},
          "execution_count": 42
        }
      ]
    },
    {
      "cell_type": "markdown",
      "source": [
        "##內建函式"
      ],
      "metadata": {
        "id": "katlDZR0Bk9g"
      }
    },
    {
      "cell_type": "code",
      "source": [
        "abs(-2.5)"
      ],
      "metadata": {
        "colab": {
          "base_uri": "https://localhost:8080/"
        },
        "id": "J10pGr7xBqPj",
        "outputId": "bad42d26-219b-4cf8-ae61-124cda8519f1"
      },
      "execution_count": null,
      "outputs": [
        {
          "output_type": "execute_result",
          "data": {
            "text/plain": [
              "2.5"
            ]
          },
          "metadata": {},
          "execution_count": 45
        }
      ]
    },
    {
      "cell_type": "code",
      "source": [
        "pow(2,3,5)  #2**3%5"
      ],
      "metadata": {
        "colab": {
          "base_uri": "https://localhost:8080/"
        },
        "id": "KaGFfcTyBvhm",
        "outputId": "53f096fd-33e1-41fb-ee34-df507d698725"
      },
      "execution_count": null,
      "outputs": [
        {
          "output_type": "execute_result",
          "data": {
            "text/plain": [
              "3"
            ]
          },
          "metadata": {},
          "execution_count": 47
        }
      ]
    },
    {
      "cell_type": "code",
      "source": [
        "round(1.35,1) #banker's rounding ，後面的表示取到小數點後幾位"
      ],
      "metadata": {
        "colab": {
          "base_uri": "https://localhost:8080/"
        },
        "id": "Jim6aycuB2uD",
        "outputId": "b0db2aaf-b29f-4be6-9067-95272c740ad8"
      },
      "execution_count": null,
      "outputs": [
        {
          "output_type": "execute_result",
          "data": {
            "text/plain": [
              "1.4"
            ]
          },
          "metadata": {},
          "execution_count": 49
        }
      ]
    },
    {
      "cell_type": "code",
      "source": [
        "min(10.3,52) #同樣有max"
      ],
      "metadata": {
        "colab": {
          "base_uri": "https://localhost:8080/"
        },
        "id": "NvGMVNAqCEtj",
        "outputId": "396180d0-a185-4f1e-9110-7f661ca05089"
      },
      "execution_count": null,
      "outputs": [
        {
          "output_type": "execute_result",
          "data": {
            "text/plain": [
              "10.3"
            ]
          },
          "metadata": {},
          "execution_count": 50
        }
      ]
    },
    {
      "cell_type": "markdown",
      "source": [
        "## 判斷奇偶 % or & ?"
      ],
      "metadata": {
        "id": "1VV6gGdQpBYf"
      }
    },
    {
      "cell_type": "code",
      "source": [
        "%timeit 25000000000000000000000000008 % 2  #除法判別會比較慢"
      ],
      "metadata": {
        "id": "kpvMnlZXVB0h",
        "colab": {
          "base_uri": "https://localhost:8080/"
        },
        "outputId": "65a51722-ebd9-4111-acde-cbf2a32929e6"
      },
      "execution_count": null,
      "outputs": [
        {
          "output_type": "stream",
          "name": "stdout",
          "text": [
            "17.6 ns ± 3.27 ns per loop (mean ± std. dev. of 7 runs, 100000000 loops each)\n"
          ]
        }
      ]
    },
    {
      "cell_type": "code",
      "source": [
        "%timeit 25000000000000000000000000008 & 1 #看最後一個數字是不是1(binary)就能知道機偶"
      ],
      "metadata": {
        "id": "Rn4bj7lKeKV5",
        "colab": {
          "base_uri": "https://localhost:8080/"
        },
        "outputId": "621c4bfe-d7a2-4743-a3cc-6d950eede069"
      },
      "execution_count": null,
      "outputs": [
        {
          "output_type": "stream",
          "name": "stdout",
          "text": [
            "28.4 ns ± 5.42 ns per loop (mean ± std. dev. of 7 runs, 10000000 loops each)\n"
          ]
        }
      ]
    },
    {
      "cell_type": "code",
      "source": [
        "258&1"
      ],
      "metadata": {
        "colab": {
          "base_uri": "https://localhost:8080/"
        },
        "id": "0dpQvXZMC9fD",
        "outputId": "0696f71e-9e28-455b-a934-ef744dac8829"
      },
      "execution_count": null,
      "outputs": [
        {
          "output_type": "execute_result",
          "data": {
            "text/plain": [
              "0"
            ]
          },
          "metadata": {},
          "execution_count": 59
        }
      ]
    },
    {
      "cell_type": "markdown",
      "source": [
        "## Chained Assignment"
      ],
      "metadata": {
        "id": "LT-DpGXrpImG"
      }
    },
    {
      "cell_type": "code",
      "metadata": {
        "id": "VYHaMEw9bgtC"
      },
      "source": [
        "# Chained Assignment\n",
        "a = b = 18"
      ],
      "execution_count": null,
      "outputs": []
    },
    {
      "cell_type": "code",
      "source": [
        "a is b"
      ],
      "metadata": {
        "colab": {
          "base_uri": "https://localhost:8080/"
        },
        "id": "V3xUSP1CDOlR",
        "outputId": "38528777-c5f8-4bbd-c6ce-69b1fdd5fa8c"
      },
      "execution_count": null,
      "outputs": [
        {
          "output_type": "execute_result",
          "data": {
            "text/plain": [
              "True"
            ]
          },
          "metadata": {},
          "execution_count": 62
        }
      ]
    },
    {
      "cell_type": "markdown",
      "source": [
        "## 複合指派"
      ],
      "metadata": {
        "id": "7EWY7Vp0pMcG"
      }
    },
    {
      "cell_type": "code",
      "metadata": {
        "id": "U8hEhUlcbpBe",
        "colab": {
          "base_uri": "https://localhost:8080/"
        },
        "outputId": "d5dabc41-058b-46e8-a506-ebcb288cdabd"
      },
      "source": [
        "# 複合指派\n",
        "b += 2\n",
        "b"
      ],
      "execution_count": null,
      "outputs": [
        {
          "output_type": "execute_result",
          "data": {
            "text/plain": [
              "20"
            ]
          },
          "metadata": {},
          "execution_count": 63
        }
      ]
    },
    {
      "cell_type": "markdown",
      "source": [
        "## float 精準度"
      ],
      "metadata": {
        "id": "w_rSyz0ZpSqZ"
      }
    },
    {
      "cell_type": "code",
      "source": [
        "a = 1.1 * 3\n",
        "b = 3.3 * 1\n",
        "print(a == b)\n",
        "#python float精度不同，要round a,b才會一樣\n",
        "#指派不同，ab記憶體位址也不同"
      ],
      "metadata": {
        "id": "vjVUe_BwpWgM",
        "colab": {
          "base_uri": "https://localhost:8080/"
        },
        "outputId": "08d15210-ab54-407f-a7ed-1c84474ea0dc"
      },
      "execution_count": null,
      "outputs": [
        {
          "output_type": "stream",
          "name": "stdout",
          "text": [
            "False\n"
          ]
        }
      ]
    },
    {
      "cell_type": "code",
      "source": [
        "a, b"
      ],
      "metadata": {
        "id": "mr80YW9Zph7D",
        "colab": {
          "base_uri": "https://localhost:8080/"
        },
        "outputId": "051dc11e-9f94-47e1-ffbf-d1cd19406cd5"
      },
      "execution_count": null,
      "outputs": [
        {
          "output_type": "execute_result",
          "data": {
            "text/plain": [
              "(3.3000000000000003, 3.3)"
            ]
          },
          "metadata": {},
          "execution_count": 65
        }
      ]
    },
    {
      "cell_type": "code",
      "metadata": {
        "id": "y8sXqI9uKwBq",
        "colab": {
          "base_uri": "https://localhost:8080/"
        },
        "outputId": "fb5160fd-f303-4d81-9233-a394c8e4c900"
      },
      "source": [
        "round(1.35,1)"
      ],
      "execution_count": null,
      "outputs": [
        {
          "output_type": "execute_result",
          "data": {
            "text/plain": [
              "1.4"
            ]
          },
          "metadata": {},
          "execution_count": 66
        }
      ]
    },
    {
      "cell_type": "code",
      "metadata": {
        "id": "IJv5Btp-NBOk",
        "colab": {
          "base_uri": "https://localhost:8080/"
        },
        "outputId": "f318e300-23fb-4e06-980c-ea04388961ec"
      },
      "source": [
        "round(1.25,1)"
      ],
      "execution_count": null,
      "outputs": [
        {
          "output_type": "execute_result",
          "data": {
            "text/plain": [
              "1.2"
            ]
          },
          "metadata": {},
          "execution_count": 67
        }
      ]
    },
    {
      "cell_type": "code",
      "source": [
        "?"
      ],
      "metadata": {
        "id": "fVYdsqCvD2Sw"
      },
      "execution_count": null,
      "outputs": []
    },
    {
      "cell_type": "markdown",
      "source": [
        "# String"
      ],
      "metadata": {
        "id": "sHSeC4U9Jo6i"
      }
    },
    {
      "cell_type": "code",
      "metadata": {
        "id": "-s_A_JXeNDpi",
        "colab": {
          "base_uri": "https://localhost:8080/",
          "height": 36
        },
        "outputId": "c0426ca5-d8ec-4c53-d628-1632fb76a19c"
      },
      "source": [
        "s = \"0123456789\"\n",
        "s"
      ],
      "execution_count": null,
      "outputs": [
        {
          "output_type": "execute_result",
          "data": {
            "text/plain": [
              "'0123456789'"
            ],
            "application/vnd.google.colaboratory.intrinsic+json": {
              "type": "string"
            }
          },
          "metadata": {},
          "execution_count": 69
        }
      ]
    },
    {
      "cell_type": "code",
      "metadata": {
        "id": "SzpWClFAOp0Z",
        "colab": {
          "base_uri": "https://localhost:8080/",
          "height": 36
        },
        "outputId": "c20df214-248d-4f68-8a84-406625558861"
      },
      "source": [
        "s[0:0]"
      ],
      "execution_count": null,
      "outputs": [
        {
          "output_type": "execute_result",
          "data": {
            "text/plain": [
              "''"
            ],
            "application/vnd.google.colaboratory.intrinsic+json": {
              "type": "string"
            }
          },
          "metadata": {},
          "execution_count": 70
        }
      ]
    },
    {
      "cell_type": "code",
      "source": [
        "s[0:1]\n",
        "#[起始索引值:(終止索引值):間隔值]"
      ],
      "metadata": {
        "id": "yhf5cNBKc0QP",
        "colab": {
          "base_uri": "https://localhost:8080/",
          "height": 36
        },
        "outputId": "1c89d438-beb3-460a-ce7f-596880a942bd"
      },
      "execution_count": null,
      "outputs": [
        {
          "output_type": "execute_result",
          "data": {
            "text/plain": [
              "'0'"
            ],
            "application/vnd.google.colaboratory.intrinsic+json": {
              "type": "string"
            }
          },
          "metadata": {},
          "execution_count": 72
        }
      ]
    },
    {
      "cell_type": "code",
      "metadata": {
        "id": "aJKrxy6LOrax",
        "colab": {
          "base_uri": "https://localhost:8080/",
          "height": 36
        },
        "outputId": "f5a31fe2-6f66-4f9b-ca94-c6aac499b7d4"
      },
      "source": [
        "s[2:11:-3]\n",
        "#11已經終止，如下"
      ],
      "execution_count": null,
      "outputs": [
        {
          "output_type": "execute_result",
          "data": {
            "text/plain": [
              "''"
            ],
            "application/vnd.google.colaboratory.intrinsic+json": {
              "type": "string"
            }
          },
          "metadata": {},
          "execution_count": 74
        }
      ]
    },
    {
      "cell_type": "code",
      "source": [
        "s[11]"
      ],
      "metadata": {
        "id": "j2OvSU9Wc_Q1",
        "colab": {
          "base_uri": "https://localhost:8080/",
          "height": 167
        },
        "outputId": "c0af1553-e914-459d-abd9-886e83593c79"
      },
      "execution_count": null,
      "outputs": [
        {
          "output_type": "error",
          "ename": "IndexError",
          "evalue": "ignored",
          "traceback": [
            "\u001b[0;31m---------------------------------------------------------------------------\u001b[0m",
            "\u001b[0;31mIndexError\u001b[0m                                Traceback (most recent call last)",
            "\u001b[0;32m<ipython-input-79-665bb6993e1f>\u001b[0m in \u001b[0;36m<module>\u001b[0;34m\u001b[0m\n\u001b[0;32m----> 1\u001b[0;31m \u001b[0ms\u001b[0m\u001b[0;34m[\u001b[0m\u001b[0;36m11\u001b[0m\u001b[0;34m]\u001b[0m\u001b[0;34m\u001b[0m\u001b[0;34m\u001b[0m\u001b[0m\n\u001b[0m",
            "\u001b[0;31mIndexError\u001b[0m: string index out of range"
          ]
        }
      ]
    },
    {
      "cell_type": "code",
      "metadata": {
        "id": "UAsRqIABOvgZ",
        "colab": {
          "base_uri": "https://localhost:8080/",
          "height": 36
        },
        "outputId": "b5ba0e29-c95b-426a-8a94-3644d8fe5519"
      },
      "source": [
        "s[11:2:-3]"
      ],
      "execution_count": null,
      "outputs": [
        {
          "output_type": "execute_result",
          "data": {
            "text/plain": [
              "'963'"
            ],
            "application/vnd.google.colaboratory.intrinsic+json": {
              "type": "string"
            }
          },
          "metadata": {},
          "execution_count": 76
        }
      ]
    },
    {
      "cell_type": "code",
      "metadata": {
        "id": "1KUBkqoBOz0I",
        "colab": {
          "base_uri": "https://localhost:8080/",
          "height": 36
        },
        "outputId": "6fc81a72-28ae-4aa2-971c-31e426443c01"
      },
      "source": [
        "s[:2:-3]"
      ],
      "execution_count": null,
      "outputs": [
        {
          "output_type": "execute_result",
          "data": {
            "text/plain": [
              "'963'"
            ],
            "application/vnd.google.colaboratory.intrinsic+json": {
              "type": "string"
            }
          },
          "metadata": {},
          "execution_count": 77
        }
      ]
    },
    {
      "cell_type": "code",
      "metadata": {
        "id": "VS9sy02xO9Un",
        "colab": {
          "base_uri": "https://localhost:8080/",
          "height": 36
        },
        "outputId": "879fc89e-b6b2-4fd8-e794-1c3de24e39ab"
      },
      "source": [
        "s[::-3]"
      ],
      "execution_count": null,
      "outputs": [
        {
          "output_type": "execute_result",
          "data": {
            "text/plain": [
              "'9630'"
            ],
            "application/vnd.google.colaboratory.intrinsic+json": {
              "type": "string"
            }
          },
          "metadata": {},
          "execution_count": 78
        }
      ]
    },
    {
      "cell_type": "code",
      "metadata": {
        "id": "0NG_HMIWPCqZ",
        "colab": {
          "base_uri": "https://localhost:8080/",
          "height": 36
        },
        "outputId": "9359564b-9173-47c9-b9d7-a73b2e1bdac2"
      },
      "source": [
        "s[::-1]"
      ],
      "execution_count": null,
      "outputs": [
        {
          "output_type": "execute_result",
          "data": {
            "text/plain": [
              "'9876543210'"
            ],
            "application/vnd.google.colaboratory.intrinsic+json": {
              "type": "string"
            }
          },
          "metadata": {},
          "execution_count": 80
        }
      ]
    },
    {
      "cell_type": "code",
      "metadata": {
        "id": "5ia3x9rxPFbo",
        "colab": {
          "base_uri": "https://localhost:8080/"
        },
        "outputId": "80523cf5-f26f-4456-dfb3-80abfa3a4822"
      },
      "source": [
        "\"a\" in \"abc\""
      ],
      "execution_count": null,
      "outputs": [
        {
          "output_type": "execute_result",
          "data": {
            "text/plain": [
              "True"
            ]
          },
          "metadata": {},
          "execution_count": 81
        }
      ]
    },
    {
      "cell_type": "code",
      "source": [
        "[\"abc\",[1,2,\"3\"]][1][2]"
      ],
      "metadata": {
        "colab": {
          "base_uri": "https://localhost:8080/",
          "height": 36
        },
        "id": "O34x3oqmHgLD",
        "outputId": "b50f2de7-3709-4b3e-935d-fb8f6c3c2e5f"
      },
      "execution_count": null,
      "outputs": [
        {
          "output_type": "execute_result",
          "data": {
            "text/plain": [
              "'3'"
            ],
            "application/vnd.google.colaboratory.intrinsic+json": {
              "type": "string"
            }
          },
          "metadata": {},
          "execution_count": 83
        }
      ]
    },
    {
      "cell_type": "markdown",
      "source": [
        "## 判斷字串是否有某字元 in, find, count ?"
      ],
      "metadata": {
        "id": "E85hdRV0o1wK"
      }
    },
    {
      "cell_type": "code",
      "metadata": {
        "id": "ubjesDD0Qj_y",
        "colab": {
          "base_uri": "https://localhost:8080/"
        },
        "outputId": "1c797b52-8016-4188-c126-39fd4522828e"
      },
      "source": [
        "# 判斷字串是否有某字元 in, find, count ?\n",
        "%timeit \"b\" in \"abc\"\n",
        "#有沒有用in，在哪裡和有多少用find和count"
      ],
      "execution_count": null,
      "outputs": [
        {
          "output_type": "stream",
          "name": "stdout",
          "text": [
            "62.7 ns ± 22.5 ns per loop (mean ± std. dev. of 7 runs, 10000000 loops each)\n"
          ]
        }
      ]
    },
    {
      "cell_type": "code",
      "source": [
        "%timeit \"abc\".find(\"b\")\n",
        "#find傳回-1代表沒找到"
      ],
      "metadata": {
        "id": "Fd1UBlDGTDgN",
        "colab": {
          "base_uri": "https://localhost:8080/"
        },
        "outputId": "7a28e651-e0fe-4d50-d2bb-bd78cec3a4f4"
      },
      "execution_count": null,
      "outputs": [
        {
          "output_type": "stream",
          "name": "stdout",
          "text": [
            "153 ns ± 54.2 ns per loop (mean ± std. dev. of 7 runs, 1000000 loops each)\n"
          ]
        }
      ]
    },
    {
      "cell_type": "code",
      "metadata": {
        "id": "8k1vC8GEQpgb",
        "colab": {
          "base_uri": "https://localhost:8080/"
        },
        "outputId": "600705a3-f585-44ef-99eb-919adcd915c9"
      },
      "source": [
        "%timeit \"abc\".count(\"b\")"
      ],
      "execution_count": null,
      "outputs": [
        {
          "output_type": "stream",
          "name": "stdout",
          "text": [
            "162 ns ± 34.1 ns per loop (mean ± std. dev. of 7 runs, 10000000 loops each)\n"
          ]
        }
      ]
    },
    {
      "cell_type": "code",
      "source": [
        "\" \" in \"abc\" #空格和\"\"不同"
      ],
      "metadata": {
        "id": "kyJ2JQHUVj2R",
        "colab": {
          "base_uri": "https://localhost:8080/"
        },
        "outputId": "920706a6-3035-44e6-ae03-a587b4346f99"
      },
      "execution_count": null,
      "outputs": [
        {
          "output_type": "execute_result",
          "data": {
            "text/plain": [
              "False"
            ]
          },
          "metadata": {},
          "execution_count": 94
        }
      ]
    },
    {
      "cell_type": "code",
      "source": [
        "\"abc\".find(\"\")\n",
        "#空字串的位置"
      ],
      "metadata": {
        "id": "uolAqaRhVp0E",
        "colab": {
          "base_uri": "https://localhost:8080/"
        },
        "outputId": "9e68f119-e373-4e01-847a-7acb912a2578"
      },
      "execution_count": null,
      "outputs": [
        {
          "output_type": "execute_result",
          "data": {
            "text/plain": [
              "0"
            ]
          },
          "metadata": {},
          "execution_count": 95
        }
      ]
    },
    {
      "cell_type": "code",
      "source": [
        "\"abc\".count(\"\")"
      ],
      "metadata": {
        "id": "QkHBwyVRVssd",
        "colab": {
          "base_uri": "https://localhost:8080/"
        },
        "outputId": "508e1b91-3bfc-4e38-e267-8db5c1901379"
      },
      "execution_count": null,
      "outputs": [
        {
          "output_type": "execute_result",
          "data": {
            "text/plain": [
              "4"
            ]
          },
          "metadata": {},
          "execution_count": 96
        }
      ]
    },
    {
      "cell_type": "code",
      "metadata": {
        "id": "kjp8y9d5QzrI",
        "colab": {
          "base_uri": "https://localhost:8080/",
          "height": 36
        },
        "outputId": "0496a440-9e2b-44ed-d59f-e533199053b6"
      },
      "source": [
        "\"one\"+\"two\""
      ],
      "execution_count": null,
      "outputs": [
        {
          "output_type": "execute_result",
          "data": {
            "text/plain": [
              "'onetwo'"
            ],
            "application/vnd.google.colaboratory.intrinsic+json": {
              "type": "string"
            }
          },
          "metadata": {},
          "execution_count": 97
        }
      ]
    },
    {
      "cell_type": "code",
      "metadata": {
        "id": "GGi290gWRQIx",
        "colab": {
          "base_uri": "https://localhost:8080/",
          "height": 184
        },
        "outputId": "6d20f456-1def-4604-8a77-6caf19318444"
      },
      "source": [
        "\"one\"+2\n",
        "#字串只可以同類型相加"
      ],
      "execution_count": null,
      "outputs": [
        {
          "output_type": "error",
          "ename": "TypeError",
          "evalue": "ignored",
          "traceback": [
            "\u001b[0;31m---------------------------------------------------------------------------\u001b[0m",
            "\u001b[0;31mTypeError\u001b[0m                                 Traceback (most recent call last)",
            "\u001b[0;32m<ipython-input-98-00363e24602b>\u001b[0m in \u001b[0;36m<module>\u001b[0;34m\u001b[0m\n\u001b[0;32m----> 1\u001b[0;31m \u001b[0;34m\"one\"\u001b[0m\u001b[0;34m+\u001b[0m\u001b[0;36m2\u001b[0m\u001b[0;34m\u001b[0m\u001b[0;34m\u001b[0m\u001b[0m\n\u001b[0m\u001b[1;32m      2\u001b[0m \u001b[0;31m#字串只可以同類型相加\u001b[0m\u001b[0;34m\u001b[0m\u001b[0;34m\u001b[0m\u001b[0;34m\u001b[0m\u001b[0m\n",
            "\u001b[0;31mTypeError\u001b[0m: can only concatenate str (not \"int\") to str"
          ]
        }
      ]
    },
    {
      "cell_type": "code",
      "source": [
        "\"one\"+str(2)"
      ],
      "metadata": {
        "id": "EL--Q2GieNoW",
        "colab": {
          "base_uri": "https://localhost:8080/",
          "height": 36
        },
        "outputId": "37c68cff-efc4-4c9c-9f6e-8fedbb1b890a"
      },
      "execution_count": null,
      "outputs": [
        {
          "output_type": "execute_result",
          "data": {
            "text/plain": [
              "'one2'"
            ],
            "application/vnd.google.colaboratory.intrinsic+json": {
              "type": "string"
            }
          },
          "metadata": {},
          "execution_count": 99
        }
      ]
    },
    {
      "cell_type": "code",
      "metadata": {
        "id": "gE3vP4o3E4wc"
      },
      "source": [
        "s = \"\"\"\n",
        "abc\n",
        "dfg\n",
        "\"\"\"\n",
        "#定義s，也可以像下面用來定義函式"
      ],
      "execution_count": null,
      "outputs": []
    },
    {
      "cell_type": "code",
      "metadata": {
        "id": "kvgOFY4jFm1F",
        "colab": {
          "base_uri": "https://localhost:8080/",
          "height": 36
        },
        "outputId": "c60c2fd7-12fa-4a31-b51d-c63efc6cd831"
      },
      "source": [
        "s"
      ],
      "execution_count": null,
      "outputs": [
        {
          "output_type": "execute_result",
          "data": {
            "text/plain": [
              "'\\nabc\\ndfg\\n'"
            ],
            "application/vnd.google.colaboratory.intrinsic+json": {
              "type": "string"
            }
          },
          "metadata": {},
          "execution_count": 101
        }
      ]
    },
    {
      "cell_type": "code",
      "metadata": {
        "id": "sW6Xt33tFnbm",
        "colab": {
          "base_uri": "https://localhost:8080/"
        },
        "outputId": "d52a985d-4d45-441b-8d28-af8cd665c487"
      },
      "source": [
        "print(s)"
      ],
      "execution_count": null,
      "outputs": [
        {
          "output_type": "stream",
          "name": "stdout",
          "text": [
            "\n",
            "abc\n",
            "dfg\n",
            "\n"
          ]
        }
      ]
    },
    {
      "cell_type": "code",
      "metadata": {
        "id": "Mcmqe1uZFqW_"
      },
      "source": [
        "def func():\n",
        "  \"\"\"\n",
        "  this is a function\n",
        "  \"\"\""
      ],
      "execution_count": null,
      "outputs": []
    },
    {
      "cell_type": "code",
      "metadata": {
        "id": "tbVKa_UpGMv9",
        "colab": {
          "base_uri": "https://localhost:8080/"
        },
        "outputId": "2a8c967b-442c-4cbd-caa9-dcec8b41d3c5"
      },
      "source": [
        "help(func)"
      ],
      "execution_count": null,
      "outputs": [
        {
          "output_type": "stream",
          "name": "stdout",
          "text": [
            "Help on function func in module __main__:\n",
            "\n",
            "func()\n",
            "    this is a function\n",
            "\n"
          ]
        }
      ]
    },
    {
      "cell_type": "code",
      "source": [
        "help(str) #顯示所有經過\"\"\"註解的str函式"
      ],
      "metadata": {
        "id": "asV3aX1sKALt"
      },
      "execution_count": null,
      "outputs": []
    },
    {
      "cell_type": "code",
      "metadata": {
        "id": "XOjQIopMGO_r",
        "colab": {
          "base_uri": "https://localhost:8080/"
        },
        "outputId": "b0034f99-f54f-4a32-a24d-e052f9c7aa6a"
      },
      "source": [
        "type(func())"
      ],
      "execution_count": null,
      "outputs": [
        {
          "output_type": "execute_result",
          "data": {
            "text/plain": [
              "NoneType"
            ]
          },
          "metadata": {},
          "execution_count": 105
        }
      ]
    },
    {
      "cell_type": "code",
      "source": [
        "#\"replace\"\n",
        "\"variable have no space\".replace(\" \",\"_\",1)\n",
        "#(要改的,改成甚麼，(改多少個))"
      ],
      "metadata": {
        "colab": {
          "base_uri": "https://localhost:8080/",
          "height": 36
        },
        "id": "ENRZ4kYSKMJy",
        "outputId": "086bf8de-4866-4ac1-eda6-6d1bd5d3495e"
      },
      "execution_count": null,
      "outputs": [
        {
          "output_type": "execute_result",
          "data": {
            "text/plain": [
              "'variable_have no space'"
            ],
            "application/vnd.google.colaboratory.intrinsic+json": {
              "type": "string"
            }
          },
          "metadata": {},
          "execution_count": 108
        }
      ]
    },
    {
      "cell_type": "code",
      "metadata": {
        "id": "Bfn_EdEjGlhr",
        "colab": {
          "base_uri": "https://localhost:8080/"
        },
        "outputId": "e80d560e-0c45-41ae-b6d9-bdd3c87f6c4d"
      },
      "source": [
        "print(func())"
      ],
      "execution_count": null,
      "outputs": [
        {
          "output_type": "stream",
          "name": "stdout",
          "text": [
            "None\n"
          ]
        }
      ]
    },
    {
      "cell_type": "markdown",
      "source": [
        "# Tuple"
      ],
      "metadata": {
        "id": "9ML4XoTJJ8nb"
      }
    },
    {
      "cell_type": "code",
      "source": [
        "T = (123,)\n",
        "#只放一個element要在最後放逗號告訴其是一個元素，而非運算用的整數\n",
        "type(T)"
      ],
      "metadata": {
        "id": "UGdeBvn_bboi",
        "colab": {
          "base_uri": "https://localhost:8080/"
        },
        "outputId": "6debb09f-2831-4127-c814-854f224d5896"
      },
      "execution_count": null,
      "outputs": [
        {
          "output_type": "execute_result",
          "data": {
            "text/plain": [
              "tuple"
            ]
          },
          "metadata": {},
          "execution_count": 110
        }
      ]
    },
    {
      "cell_type": "code",
      "source": [
        "T = (123)\n",
        "type(T)"
      ],
      "metadata": {
        "id": "jeipCoIofjjm",
        "colab": {
          "base_uri": "https://localhost:8080/"
        },
        "outputId": "c4c892a3-384e-45ba-fe5f-8321a973cc17"
      },
      "execution_count": null,
      "outputs": [
        {
          "output_type": "execute_result",
          "data": {
            "text/plain": [
              "int"
            ]
          },
          "metadata": {},
          "execution_count": 111
        }
      ]
    },
    {
      "cell_type": "code",
      "metadata": {
        "id": "y1NSTpMSbtB-",
        "colab": {
          "base_uri": "https://localhost:8080/"
        },
        "outputId": "9dfcbdc4-5097-499c-c817-4ebefb70c542"
      },
      "source": [
        "a,b"
      ],
      "execution_count": null,
      "outputs": [
        {
          "output_type": "execute_result",
          "data": {
            "text/plain": [
              "(3.3000000000000003, 3.3)"
            ]
          },
          "metadata": {},
          "execution_count": 112
        }
      ]
    },
    {
      "cell_type": "code",
      "metadata": {
        "id": "8ozhlgRybyy2"
      },
      "source": [
        "a, b = b, a #tuple多重指派，c才要花三行寫"
      ],
      "execution_count": null,
      "outputs": []
    },
    {
      "cell_type": "code",
      "metadata": {
        "id": "g1FEfgQNcMO4",
        "colab": {
          "base_uri": "https://localhost:8080/"
        },
        "outputId": "1db6cf31-419a-4e69-f82e-7048ec5c7dc1"
      },
      "source": [
        "a,b"
      ],
      "execution_count": null,
      "outputs": [
        {
          "output_type": "execute_result",
          "data": {
            "text/plain": [
              "(3.3000000000000003, 3.3)"
            ]
          },
          "metadata": {},
          "execution_count": 116
        }
      ]
    },
    {
      "cell_type": "markdown",
      "source": [
        "##tuple\n",
        "[ ]同樣以此做為切片，可以省略起始終止值\n",
        "負號代表反向"
      ],
      "metadata": {
        "id": "XUhTYJlFK7wC"
      }
    },
    {
      "cell_type": "markdown",
      "source": [
        "# List"
      ],
      "metadata": {
        "id": "0IxHnToOK57i"
      }
    },
    {
      "cell_type": "code",
      "source": [
        "# 可變 mutable\n",
        "#整數、浮點數、布林、字串和 tuple*T=() 都是不可變物件( immutable object )\n",
        "#list使用多因其值可以更改\n",
        "L = [\"milk\", \"eggs\"]\n",
        "print(f\"id({id(L)})={L}\")\n",
        "L.append(\"bread\")  #原地新增\n",
        "print(f\"id({id(L)})={L}\")\n",
        "#用append記憶體未指不便，但用+記憶體未只會變動"
      ],
      "metadata": {
        "id": "Za26ATstbKjG",
        "colab": {
          "base_uri": "https://localhost:8080/"
        },
        "outputId": "fcdfa9f1-8552-4340-c6cb-d422356bcf9e"
      },
      "execution_count": null,
      "outputs": [
        {
          "output_type": "stream",
          "name": "stdout",
          "text": [
            "id(140293545984256)=['milk', 'eggs']\n",
            "id(140293545984256)=['milk', 'eggs', 'bread']\n"
          ]
        }
      ]
    },
    {
      "cell_type": "code",
      "source": [
        "L2 = [\"milk\", \"eggs\"]\n",
        "print(f\"id({id(L2)})={L2}\")\n",
        "L2 = L2 + [\"bread\",] #新增為新串列\n",
        "print(f\"id({id(L2)})={L2}\")"
      ],
      "metadata": {
        "id": "51Xw90zwbLra",
        "colab": {
          "base_uri": "https://localhost:8080/"
        },
        "outputId": "250a480f-e5ae-4565-d45b-c6303a9ee0e3"
      },
      "execution_count": null,
      "outputs": [
        {
          "output_type": "stream",
          "name": "stdout",
          "text": [
            "id(140293545799296)=['milk', 'eggs']\n",
            "id(140293544884800)=['milk', 'eggs', 'bread']\n"
          ]
        }
      ]
    },
    {
      "cell_type": "code",
      "source": [
        "L2 = (\"milk\", \"eggs\")\n",
        "print(f\"id({id(L2)})={L2}\")\n",
        "L2 = L2 + (\"bread\",) #新增為新Tuple\n",
        "print(f\"id({id(L2)})={L2}\")"
      ],
      "metadata": {
        "id": "dJCWXPr-bOuk",
        "colab": {
          "base_uri": "https://localhost:8080/"
        },
        "outputId": "66b29849-e088-4d94-c337-370927872c25"
      },
      "execution_count": null,
      "outputs": [
        {
          "output_type": "stream",
          "name": "stdout",
          "text": [
            "id(140293546396480)=('milk', 'eggs')\n",
            "id(140293545774720)=('milk', 'eggs', 'bread')\n"
          ]
        }
      ]
    },
    {
      "cell_type": "code",
      "metadata": {
        "id": "T0jVYcMxWIYL"
      },
      "source": [
        "l2d_1 = [[0]*9]*9"
      ],
      "execution_count": null,
      "outputs": []
    },
    {
      "cell_type": "code",
      "source": [
        "l2d_1"
      ],
      "metadata": {
        "id": "60uGWaFJdaFP",
        "colab": {
          "base_uri": "https://localhost:8080/"
        },
        "outputId": "e20e4339-c0b1-4d2e-fd13-58f5d20e6068"
      },
      "execution_count": null,
      "outputs": [
        {
          "output_type": "execute_result",
          "data": {
            "text/plain": [
              "[[0, 0, 0, 0, 0, 0, 0, 0, 0],\n",
              " [0, 0, 0, 0, 0, 0, 0, 0, 0],\n",
              " [0, 0, 0, 0, 0, 0, 0, 0, 0],\n",
              " [0, 0, 0, 0, 0, 0, 0, 0, 0],\n",
              " [0, 0, 0, 0, 0, 0, 0, 0, 0],\n",
              " [0, 0, 0, 0, 0, 0, 0, 0, 0],\n",
              " [0, 0, 0, 0, 0, 0, 0, 0, 0],\n",
              " [0, 0, 0, 0, 0, 0, 0, 0, 0],\n",
              " [0, 0, 0, 0, 0, 0, 0, 0, 0]]"
            ]
          },
          "metadata": {},
          "execution_count": 123
        }
      ]
    },
    {
      "cell_type": "code",
      "source": [
        "l2d_1[0][0]=1\n",
        "#list試紙標，用乘的第一行都會改動"
      ],
      "metadata": {
        "id": "VBPtGNlpdePn"
      },
      "execution_count": null,
      "outputs": []
    },
    {
      "cell_type": "code",
      "source": [
        "l2d_1"
      ],
      "metadata": {
        "id": "Cilswsdgdihv",
        "colab": {
          "base_uri": "https://localhost:8080/"
        },
        "outputId": "de597535-d27a-4570-c7cc-89d6ea0ca7e5"
      },
      "execution_count": null,
      "outputs": [
        {
          "output_type": "execute_result",
          "data": {
            "text/plain": [
              "[[1, 0, 0, 0, 0, 0, 0, 0, 0],\n",
              " [1, 0, 0, 0, 0, 0, 0, 0, 0],\n",
              " [1, 0, 0, 0, 0, 0, 0, 0, 0],\n",
              " [1, 0, 0, 0, 0, 0, 0, 0, 0],\n",
              " [1, 0, 0, 0, 0, 0, 0, 0, 0],\n",
              " [1, 0, 0, 0, 0, 0, 0, 0, 0],\n",
              " [1, 0, 0, 0, 0, 0, 0, 0, 0],\n",
              " [1, 0, 0, 0, 0, 0, 0, 0, 0],\n",
              " [1, 0, 0, 0, 0, 0, 0, 0, 0]]"
            ]
          },
          "metadata": {},
          "execution_count": 125
        }
      ]
    },
    {
      "cell_type": "code",
      "metadata": {
        "id": "d47mRNOPWUJf"
      },
      "source": [
        "l2d_2 = [[0]*9 for _ in range(9)]\n",
        "#做9次迴圈不乘9"
      ],
      "execution_count": null,
      "outputs": []
    },
    {
      "cell_type": "code",
      "source": [
        "l2d_2"
      ],
      "metadata": {
        "id": "sLqQ58cVmadT",
        "colab": {
          "base_uri": "https://localhost:8080/"
        },
        "outputId": "874c15bc-5872-4f4c-8d91-25d18752638e"
      },
      "execution_count": null,
      "outputs": [
        {
          "output_type": "execute_result",
          "data": {
            "text/plain": [
              "[[0, 0, 0, 0, 0, 0, 0, 0, 0],\n",
              " [0, 0, 0, 0, 0, 0, 0, 0, 0],\n",
              " [0, 0, 0, 0, 0, 0, 0, 0, 0],\n",
              " [0, 0, 0, 0, 0, 0, 0, 0, 0],\n",
              " [0, 0, 0, 0, 0, 0, 0, 0, 0],\n",
              " [0, 0, 0, 0, 0, 0, 0, 0, 0],\n",
              " [0, 0, 0, 0, 0, 0, 0, 0, 0],\n",
              " [0, 0, 0, 0, 0, 0, 0, 0, 0],\n",
              " [0, 0, 0, 0, 0, 0, 0, 0, 0]]"
            ]
          },
          "metadata": {},
          "execution_count": 128
        }
      ]
    },
    {
      "cell_type": "code",
      "source": [
        "l2d_2[0][0]=1"
      ],
      "metadata": {
        "id": "MRxBDITUmcSS"
      },
      "execution_count": null,
      "outputs": []
    },
    {
      "cell_type": "code",
      "source": [
        "l2d_2"
      ],
      "metadata": {
        "id": "KJJW8rk3mfoi",
        "colab": {
          "base_uri": "https://localhost:8080/"
        },
        "outputId": "e55fd84d-913d-4119-abc6-b2ac3f3be65d"
      },
      "execution_count": null,
      "outputs": [
        {
          "output_type": "execute_result",
          "data": {
            "text/plain": [
              "[[1, 0, 0, 0, 0, 0, 0, 0, 0],\n",
              " [0, 0, 0, 0, 0, 0, 0, 0, 0],\n",
              " [0, 0, 0, 0, 0, 0, 0, 0, 0],\n",
              " [0, 0, 0, 0, 0, 0, 0, 0, 0],\n",
              " [0, 0, 0, 0, 0, 0, 0, 0, 0],\n",
              " [0, 0, 0, 0, 0, 0, 0, 0, 0],\n",
              " [0, 0, 0, 0, 0, 0, 0, 0, 0],\n",
              " [0, 0, 0, 0, 0, 0, 0, 0, 0],\n",
              " [0, 0, 0, 0, 0, 0, 0, 0, 0]]"
            ]
          },
          "metadata": {},
          "execution_count": 130
        }
      ]
    },
    {
      "cell_type": "code",
      "metadata": {
        "id": "k8LCt3keWf9P"
      },
      "source": [
        "l2d_3 = [x[:] for x in [[0]*9]*9]\n",
        "#乘9但是一個一個指派"
      ],
      "execution_count": null,
      "outputs": []
    },
    {
      "cell_type": "code",
      "source": [
        "l2d_3[0][0] = 1"
      ],
      "metadata": {
        "id": "k1dyEkG_mrSq"
      },
      "execution_count": null,
      "outputs": []
    },
    {
      "cell_type": "code",
      "source": [
        "l2d_3"
      ],
      "metadata": {
        "id": "tPUYg-YzmuKa",
        "colab": {
          "base_uri": "https://localhost:8080/"
        },
        "outputId": "d06f7e34-725d-4287-bf10-db90f762432e"
      },
      "execution_count": null,
      "outputs": [
        {
          "output_type": "execute_result",
          "data": {
            "text/plain": [
              "[[1, 0, 0, 0, 0, 0, 0, 0, 0],\n",
              " [0, 0, 0, 0, 0, 0, 0, 0, 0],\n",
              " [0, 0, 0, 0, 0, 0, 0, 0, 0],\n",
              " [0, 0, 0, 0, 0, 0, 0, 0, 0],\n",
              " [0, 0, 0, 0, 0, 0, 0, 0, 0],\n",
              " [0, 0, 0, 0, 0, 0, 0, 0, 0],\n",
              " [0, 0, 0, 0, 0, 0, 0, 0, 0],\n",
              " [0, 0, 0, 0, 0, 0, 0, 0, 0],\n",
              " [0, 0, 0, 0, 0, 0, 0, 0, 0]]"
            ]
          },
          "metadata": {},
          "execution_count": 133
        }
      ]
    },
    {
      "cell_type": "code",
      "source": [],
      "metadata": {
        "id": "fGn1vtd_mwsN"
      },
      "execution_count": null,
      "outputs": []
    },
    {
      "cell_type": "markdown",
      "source": [
        "# Python的流程控制"
      ],
      "metadata": {
        "id": "3WyGmN44LAEp"
      }
    },
    {
      "cell_type": "code",
      "metadata": {
        "id": "UhPJR9ntRTW5"
      },
      "source": [
        "# 條件運算式\n",
        "c = 8\n",
        "a = 1 if c < 5 else 2"
      ],
      "execution_count": null,
      "outputs": []
    },
    {
      "cell_type": "code",
      "metadata": {
        "id": "JhYCUY-uTirp"
      },
      "source": [
        "a"
      ],
      "execution_count": null,
      "outputs": []
    },
    {
      "cell_type": "code",
      "metadata": {
        "id": "ZzYgiqvxTjOz"
      },
      "source": [
        "tuple(range(1,9+1))"
      ],
      "execution_count": null,
      "outputs": []
    },
    {
      "cell_type": "code",
      "source": [
        "range(9)"
      ],
      "metadata": {
        "id": "fABSNwxQrErr"
      },
      "execution_count": null,
      "outputs": []
    },
    {
      "cell_type": "code",
      "metadata": {
        "id": "AwGDle6KW7eH"
      },
      "source": [
        "tuple(range(9))"
      ],
      "execution_count": null,
      "outputs": []
    },
    {
      "cell_type": "code",
      "metadata": {
        "id": "3bRflGD-YYls"
      },
      "source": [
        "tuple(range(10, 1,-1))"
      ],
      "execution_count": null,
      "outputs": []
    },
    {
      "cell_type": "markdown",
      "source": [
        "## 多重迴圈，配合f-str"
      ],
      "metadata": {
        "id": "8ymqmJHCqs6V"
      }
    },
    {
      "cell_type": "code",
      "metadata": {
        "id": "A4dVTEG0ZCZB"
      },
      "source": [
        "#縮排區隔程式區塊\n",
        "for i in range(2,10):\n",
        "  for j in range(2,10):\n",
        "    print(f\"{j:2} x {i:2} = {j*i:2}\", end=\"  \")\n",
        "  print()"
      ],
      "execution_count": null,
      "outputs": []
    },
    {
      "cell_type": "code",
      "metadata": {
        "id": "cXyB9lUjYooW"
      },
      "source": [
        "import sys\n",
        "sys.version"
      ],
      "execution_count": null,
      "outputs": []
    },
    {
      "cell_type": "code",
      "source": [
        "a=b=2\n",
        "print(f\"{a=}, {b=}\")"
      ],
      "metadata": {
        "id": "xwzhI4wYq7MU"
      },
      "execution_count": null,
      "outputs": []
    },
    {
      "cell_type": "markdown",
      "source": [
        "## [須注意]當以某容器進行迴圈時，又去改變該容器內容的錯誤"
      ],
      "metadata": {
        "id": "MlK9UC62pvdi"
      }
    },
    {
      "cell_type": "code",
      "source": [
        "nums = [3,3,3]\n",
        "val=3 #從nums移除所有3\n",
        "for x in nums:\n",
        "    print(f\"{nums=},{x=}\")\n",
        "    if val in nums:\n",
        "        nums.remove(val)\n",
        "print(f\"Final:{nums=}\")"
      ],
      "metadata": {
        "id": "GCJsWEfGbzNB"
      },
      "execution_count": null,
      "outputs": []
    },
    {
      "cell_type": "code",
      "metadata": {
        "id": "1voDSugdbKVv"
      },
      "source": [
        "s = \"9876543210\"\n",
        "for (index, c) in enumerate(s):\n",
        "  print(index, c)"
      ],
      "execution_count": null,
      "outputs": []
    },
    {
      "cell_type": "markdown",
      "source": [
        "## 容器生成器"
      ],
      "metadata": {
        "id": "9tnrkBm9p0qu"
      }
    },
    {
      "cell_type": "code",
      "metadata": {
        "id": "plAH9FP3Wn6n"
      },
      "source": [
        "# 容器生成器(串列)\n",
        "s = [i**2 for i in range(1,11) if i & 1 == 0]\n",
        "s"
      ],
      "execution_count": null,
      "outputs": []
    },
    {
      "cell_type": "code",
      "source": [
        "# 容器生成器(集合)\n",
        "s = {i**2 for i in range(1,11) if i & 1 == 0}\n",
        "s"
      ],
      "metadata": {
        "id": "YpXG-xq3d9r1"
      },
      "execution_count": null,
      "outputs": []
    },
    {
      "cell_type": "code",
      "source": [
        " "
      ],
      "metadata": {
        "id": "sr_jT0q9S7ye"
      },
      "execution_count": null,
      "outputs": []
    }
  ]
}